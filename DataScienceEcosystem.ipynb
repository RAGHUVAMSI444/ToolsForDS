{
 "cells": [
  {
   "cell_type": "markdown",
   "id": "b230853d-a348-4c35-b13f-24d2fbfe2da0",
   "metadata": {},
   "source": [
    "# Data Science Tools and Ecosystem"
   ]
  },
  {
   "cell_type": "markdown",
   "id": "4bb623b2-a764-4d6f-9d17-bfd0f440b627",
   "metadata": {},
   "source": [
    "In this notebook, Data Science Tools and Ecosystem are summarized."
   ]
  },
  {
   "cell_type": "markdown",
   "id": "88c9ebcc-2de3-4c47-8f83-be71751d7aea",
   "metadata": {
    "tags": []
   },
   "source": [
    "Some of the popular languages that Data Scientists use are:\n",
    "1. Python\n",
    "2. R\n",
    "3. Scala\n",
    "4. SQL"
   ]
  },
  {
   "cell_type": "markdown",
   "id": "5c8f3ba3-96d2-4714-bb6d-b103f89bdc13",
   "metadata": {},
   "source": [
    "Some of the commonly used libraries used by Data Scientists include:\n",
    "1. pandas\n",
    "2. numpy\n",
    "3. sklearn"
   ]
  },
  {
   "cell_type": "markdown",
   "id": "02d0869f-75c4-410a-84c4-85744b422a52",
   "metadata": {},
   "source": [
    "| Data Science Tools |\n",
    "| --- |\n",
    "| Spark |\n",
    "| Tensorflow |\n",
    "| KNIME |"
   ]
  },
  {
   "cell_type": "markdown",
   "id": "c6ebf710-fc80-459a-8c2e-e7b6e8b11e9d",
   "metadata": {
    "tags": []
   },
   "source": [
    "### Below are a few examples of evaluating arithmetic expressions in Python"
   ]
  },
  {
   "cell_type": "code",
   "execution_count": 3,
   "id": "d18769ce-5483-4218-a5ff-70a967aec111",
   "metadata": {
    "tags": []
   },
   "outputs": [
    {
     "data": {
      "text/plain": [
       "17"
      ]
     },
     "execution_count": 3,
     "metadata": {},
     "output_type": "execute_result"
    }
   ],
   "source": [
    "# This a simple arithmetic expression to mutiply then add integers\n",
    "(3*4)+5"
   ]
  },
  {
   "cell_type": "code",
   "execution_count": 5,
   "id": "b8c7751f-d3ec-42c7-a343-ce9f03a600e8",
   "metadata": {
    "tags": []
   },
   "outputs": [
    {
     "data": {
      "text/plain": [
       "3.3333333333333335"
      ]
     },
     "execution_count": 5,
     "metadata": {},
     "output_type": "execute_result"
    }
   ],
   "source": [
    "# This will convert 200 minutes to hours by diving by 60\n",
    "minutes = 200\n",
    "minutes/60"
   ]
  },
  {
   "cell_type": "markdown",
   "id": "f8751bc2-d6ba-43c3-8889-f56f0fe43aaf",
   "metadata": {},
   "source": [
    "**Objectives:**\n",
    "* List popular languages for Data Science\n",
    "* Some of the commonly used libraries used by Data Scientists\n",
    "* Evaluating arithmetic expressions in Python"
   ]
  },
  {
   "cell_type": "markdown",
   "id": "9496ad81-e8df-453b-a0be-c7c0ae5db679",
   "metadata": {},
   "source": [
    "## Author\n",
    "Raghu Vamsi Sangala"
   ]
  },
  {
   "cell_type": "code",
   "execution_count": null,
   "id": "37cca8aa-9a1e-45ab-8d41-d8092ce7e876",
   "metadata": {},
   "outputs": [],
   "source": []
  }
 ],
 "metadata": {
  "kernelspec": {
   "display_name": "Python",
   "language": "python",
   "name": "conda-env-python-py"
  },
  "language_info": {
   "codemirror_mode": {
    "name": "ipython",
    "version": 3
   },
   "file_extension": ".py",
   "mimetype": "text/x-python",
   "name": "python",
   "nbconvert_exporter": "python",
   "pygments_lexer": "ipython3",
   "version": "3.7.12"
  }
 },
 "nbformat": 4,
 "nbformat_minor": 5
}
